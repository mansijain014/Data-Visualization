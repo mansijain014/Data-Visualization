{
 "cells": [
  {
   "cell_type": "markdown",
   "metadata": {},
   "source": [
    "## Day 3- Local Hack Day: Build\n",
    "### Data Visualization using Python"
   ]
  },
  {
   "cell_type": "code",
   "execution_count": 156,
   "metadata": {},
   "outputs": [],
   "source": [
    "import matplotlib.pyplot as plt\n",
    "import numpy as np"
   ]
  },
  {
   "cell_type": "code",
   "execution_count": 157,
   "metadata": {},
   "outputs": [],
   "source": [
    "plt.style.use('classic')"
   ]
  },
  {
   "cell_type": "code",
   "execution_count": 158,
   "metadata": {},
   "outputs": [],
   "source": [
    "def linear():\n",
    "    x = np.linspace(-5,5,100)\n",
    "    y = x\n",
    "    plt.plot(x, y, '-r', label='y=x')\n",
    "    plt.title('Graph of y=x')\n",
    "    plt.xlabel('x', color='#1C2833')\n",
    "    plt.ylabel('y', color='#1C2833')\n",
    "    plt.legend(loc='upper right')\n",
    "    plt.grid()\n",
    "    plt.show()"
   ]
  },
  {
   "cell_type": "code",
   "execution_count": 159,
   "metadata": {},
   "outputs": [],
   "source": [
    "def quadratic():\n",
    "    x = np.linspace(-5,5,100)\n",
    "    y = x ** 2\n",
    "    plt.plot(x, y, '-r', label='y=x^2')\n",
    "    plt.title('Graph of y=x^2')\n",
    "    plt.xlabel('x', color='#1C2833')\n",
    "    plt.ylabel('y', color='#1C2833')\n",
    "    plt.legend(loc='upper right')\n",
    "    plt.grid()\n",
    "    plt.show()"
   ]
  },
  {
   "cell_type": "code",
   "execution_count": 160,
   "metadata": {},
   "outputs": [],
   "source": [
    "def cubic():\n",
    "    x = np.linspace(-5,5,100)\n",
    "    y = x ** 3\n",
    "    plt.plot(x, y, '-r', label='y=x^3')\n",
    "    plt.title('Graph of y=x^3')\n",
    "    plt.xlabel('x', color='#1C2833')\n",
    "    plt.ylabel('y', color='#1C2833')\n",
    "    plt.legend(loc='upper right')\n",
    "    plt.grid()\n",
    "    plt.show()"
   ]
  },
  {
   "cell_type": "code",
   "execution_count": 161,
   "metadata": {},
   "outputs": [],
   "source": [
    "def sine():\n",
    "    x = np.arange(0,4*np.pi,0.1)\n",
    "    y = np.sin(x)\n",
    "    plt.plot(x, y, '-r', label='y=sin(x)')\n",
    "    plt.title('Graph of y=sin(x)')\n",
    "    plt.xlabel('x', color='#1C2833')\n",
    "    plt.ylabel('y', color='#1C2833')\n",
    "    plt.legend(loc='upper right')\n",
    "    plt.grid()\n",
    "    plt.show()"
   ]
  },
  {
   "cell_type": "code",
   "execution_count": 162,
   "metadata": {},
   "outputs": [],
   "source": [
    "def cosine():\n",
    "    x = np.arange(0,4*np.pi,0.1)\n",
    "    y = np.cos(x)\n",
    "    plt.plot(x, y, '-r', label='y=cos(x)')\n",
    "    plt.title('Graph of y=cos(x)')\n",
    "    plt.xlabel('x', color='#1C2833')\n",
    "    plt.ylabel('y', color='#1C2833')\n",
    "    plt.legend(loc='upper right')\n",
    "    plt.grid()\n",
    "    plt.show()"
   ]
  },
  {
   "cell_type": "code",
   "execution_count": 163,
   "metadata": {},
   "outputs": [],
   "source": [
    "def tangent():\n",
    "    x = np.linspace(0, 10000)\n",
    "    y = np.tan(x)\n",
    "    plt.plot(x, y, '-r', label='y=tan(x)')\n",
    "    plt.title('Graph of y=tan(x)')\n",
    "    plt.xlabel('x', color='#1C2833')\n",
    "    plt.ylabel('y', color='#1C2833')\n",
    "    plt.legend(loc='upper right')\n",
    "    plt.grid()\n",
    "    plt.show()"
   ]
  },
  {
   "cell_type": "code",
   "execution_count": 164,
   "metadata": {},
   "outputs": [],
   "source": [
    "def cosecant():\n",
    "    x = np.arange(0.01,4*np.pi,0.1)\n",
    "    y = 1/np.sin(x)\n",
    "    plt.plot(x, y, '-r', label='y=cosec(x)')\n",
    "    plt.title('Graph of y=cosec(x)')\n",
    "    plt.xlabel('x', color='#1C2833')\n",
    "    plt.ylabel('y', color='#1C2833')\n",
    "    plt.legend(loc='upper right')\n",
    "    plt.grid()\n",
    "    plt.show()"
   ]
  },
  {
   "cell_type": "code",
   "execution_count": 165,
   "metadata": {},
   "outputs": [],
   "source": [
    "def secant():\n",
    "    x = np.arange(0,4*np.pi,0.1)\n",
    "    y = 1/np.cos(x)\n",
    "    plt.plot(x, y, '-r', label='y=sec(x)')\n",
    "    plt.title('Graph of y=sec(x)')\n",
    "    plt.xlabel('x', color='#1C2833')\n",
    "    plt.ylabel('y', color='#1C2833')\n",
    "    plt.legend(loc='upper right')\n",
    "    plt.grid()\n",
    "    plt.show()"
   ]
  },
  {
   "cell_type": "code",
   "execution_count": 166,
   "metadata": {},
   "outputs": [],
   "source": [
    "def cotangent():\n",
    "    x = np.linspace(0.1, 10000)\n",
    "    y = 1/np.tan(x)\n",
    "    plt.plot(x, y, '-r', label='y=cot(x)')\n",
    "    plt.title('Graph of y=cot(x)')\n",
    "    plt.xlabel('x', color='#1C2833')\n",
    "    plt.ylabel('y', color='#1C2833')\n",
    "    plt.legend(loc='upper right')\n",
    "    plt.grid()\n",
    "    plt.show()"
   ]
  },
  {
   "cell_type": "code",
   "execution_count": 167,
   "metadata": {},
   "outputs": [],
   "source": [
    "def logarithmic():\n",
    "    x = np.linspace(-5,5,100)\n",
    "    y = np.log(x)\n",
    "    plt.plot(x, y, '-r', label='y=log(x)')\n",
    "    plt.title('Graph of y=log(x)')\n",
    "    plt.xlabel('x', color='#1C2833')\n",
    "    plt.ylabel('y', color='#1C2833')\n",
    "    plt.legend(loc='upper right')\n",
    "    plt.grid()\n",
    "    plt.show()"
   ]
  },
  {
   "cell_type": "code",
   "execution_count": 168,
   "metadata": {},
   "outputs": [],
   "source": [
    "def exponent():\n",
    "    x = np.linspace(-5,5,100)\n",
    "    y = np.exp(x)\n",
    "    plt.plot(x, y, '-r', label='y=exp(x)')\n",
    "    plt.title('Graph of y=exp(x)')\n",
    "    plt.xlabel('x', color='#1C2833')\n",
    "    plt.ylabel('y', color='#1C2833')\n",
    "    plt.legend(loc='upper right')\n",
    "    plt.grid()\n",
    "    plt.show()"
   ]
  },
  {
   "cell_type": "code",
   "execution_count": 171,
   "metadata": {},
   "outputs": [
    {
     "name": "stdout",
     "output_type": "stream",
     "text": [
      "  Menu\n",
      "  1: y=x\n",
      "  2: y=x^2\n",
      "  3: y=x^3\n",
      "  4: y=sin(x)\n",
      "  5: y=cos(x)\n",
      "  6: y=tan(x)\n",
      "  7: y=cosec(x)\n",
      "  8: y=sec(x)\n",
      "  9: y=cot(x)\n",
      " 10: y=log(x)\n",
      " 11: y=e^x\n",
      "\n",
      "Enter your choice: 4\n"
     ]
    },
    {
     "data": {
      "image/png": "[encoded data removed]",
      "text/plain": [
       "<Figure size 640x480 with 1 Axes>"
      ]
     },
     "metadata": {},
     "output_type": "display_data"
    }
   ],
   "source": [
    "print(\"  Menu\\n\",\n",
    "      \" 1: y=x\\n\",\n",
    "      \" 2: y=x^2\\n\",\n",
    "      \" 3: y=x^3\\n\",\n",
    "      \" 4: y=sin(x)\\n\",\n",
    "      \" 5: y=cos(x)\\n\",\n",
    "      \" 6: y=tan(x)\\n\",\n",
    "      \" 7: y=cosec(x)\\n\",\n",
    "      \" 8: y=sec(x)\\n\",\n",
    "      \" 9: y=cot(x)\\n\",\n",
    "      \"10: y=log(x)\\n\",\n",
    "      \"11: y=e^x\\n\")\n",
    "choice = int(input(\"Enter your choice: \"))\n",
    "switch_case = [linear,\n",
    "               quadratic,\n",
    "               cubic,\n",
    "               sine,\n",
    "               cosine,\n",
    "               tangent,\n",
    "               cosecant,\n",
    "               secant,\n",
    "               cotangent,\n",
    "               logarithmic,\n",
    "               exponent]\n",
    "output = switch_case[choice-1]()"
   ]
  }
 ],
 "metadata": {
  "kernelspec": {
   "display_name": "Python 3",
   "language": "python",
   "name": "python3"
  },
  "language_info": {
   "codemirror_mode": {
    "name": "ipython",
    "version": 3
   },
   "file_extension": ".py",
   "mimetype": "text/x-python",
   "name": "python",
   "nbconvert_exporter": "python",
   "pygments_lexer": "ipython3",
   "version": "3.8.5"
  }
 },
 "nbformat": 4,
 "nbformat_minor": 4
}
